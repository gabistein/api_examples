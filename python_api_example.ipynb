{
 "cells": [
  {
   "cell_type": "code",
   "execution_count": 1,
   "id": "c414a3fe-2079-4f38-b909-da99013054ad",
   "metadata": {},
   "outputs": [],
   "source": [
    "# Import Statements\n",
    "import mysql.connector\n",
    "from mysql.connector import errorcode\n"
   ]
  },
  {
   "cell_type": "code",
   "execution_count": 2,
   "id": "0852d694-8268-46dd-890f-b09687c26e9a",
   "metadata": {},
   "outputs": [],
   "source": [
    "# Try to make connection to DB\n",
    "try: \n",
    "    sakila_connection = mysql.connector.connect(\n",
    "      host=\"localhost\",\n",
    "      user=\"root\",\n",
    "      password=\"\", \n",
    "      database = \"sakila\")\n",
    "except mysql.connector.Error as err:\n",
    "    print('Cannot connect to database: ', err)"
   ]
  },
  {
   "cell_type": "code",
   "execution_count": 22,
   "id": "2b22b236-54b7-4b15-ad82-17a0e7de1d17",
   "metadata": {},
   "outputs": [
    {
     "name": "stdout",
     "output_type": "stream",
     "text": [
      "Movie Category Name? "
     ]
    },
    {
     "name": "stdin",
     "output_type": "stream",
     "text": [
      " Romance - test 3\n"
     ]
    },
    {
     "name": "stdout",
     "output_type": "stream",
     "text": [
      "Date updated? "
     ]
    },
    {
     "name": "stdin",
     "output_type": "stream",
     "text": [
      " 2024-05-01\n"
     ]
    }
   ],
   "source": [
    "# Need a cursor to execute queries \n",
    "sakila_cursor = sakila_connection.cursor()\n",
    "\n",
    "# Inserts\n",
    "# 1. Insert a new actor by getting user input - Example\n",
    "print('Movie Category Name? ', end = '')\n",
    "category = input()\n",
    "print('Date updated? ', end = '')\n",
    "update = input()\n",
    "sakila_insert_category = (\"INSERT INTO category (name, last_update) VALUES (%s,%s)\")\n",
    "sakila_data = (category, update)\n",
    "sakila_cursor.execute(sakila_insert_category,sakila_data)\n",
    "sakila_connection.commit()\n",
    "\n",
    "# 2. Insert your favorite film by getting user input - Student to do "
   ]
  },
  {
   "cell_type": "code",
   "execution_count": 23,
   "id": "1b85d85e-2a75-4afb-a30e-c6db1ced67fe",
   "metadata": {},
   "outputs": [
    {
     "name": "stdout",
     "output_type": "stream",
     "text": [
      "('ACE GOLDFINGER', 'A Astounding Epistle of a Database Administrator And a Explorer who must Find a Car in Ancient China', 2006, 'G')\n",
      "('AUTUMN CROW', 'A Beautiful Tale of a Dentist And a Mad Cow who must Battle a Moose in The Sahara Desert', 2006, 'G')\n",
      "('BEAUTY GREASE', 'A Fast-Paced Display of a Composer And a Moose who must Sink a Robot in An Abandoned Mine Shaft', 2006, 'G')\n",
      "('BIRD INDEPENDENCE', 'A Thrilling Documentary of a Car And a Student who must Sink a Hunter in The Canadian Rockies', 2006, 'G')\n",
      "('BIRDS PERDITION', 'A Boring Story of a Womanizer And a Pioneer who must Face a Dog in California', 2006, 'G')\n",
      "('BREAKFAST GOLDFINGER', 'A Beautiful Reflection of a Student And a Student who must Fight a Moose in Berlin', 2006, 'G')\n",
      "('CASABLANCA SUPER', 'A Amazing Panorama of a Crocodile And a Forensic Psychologist who must Pursue a Secret Agent in The First Manned Space Station', 2006, 'G')\n",
      "('CASUALTIES ENCINO', 'A Insightful Yarn of a A Shark And a Pastry Chef who must Face a Boy in A Monastery', 2006, 'G')\n",
      "('CAT CONEHEADS', 'A Fast-Paced Panorama of a Girl And a A Shark who must Confront a Boy in Ancient India', 2006, 'G')\n",
      "('CHISUM BEHAVIOR', 'A Epic Documentary of a Sumo Wrestler And a Butler who must Kill a Car in Ancient India', 2006, 'G')\n",
      "('CLERKS ANGELS', 'A Thrilling Display of a Sumo Wrestler And a Girl who must Confront a Man in A Baloon', 2006, 'G')\n",
      "('COLDBLOODED DARLING', 'A Brilliant Panorama of a Dentist And a Moose who must Find a Student in The Gulf of Mexico', 2006, 'G')\n",
      "('CONQUERER NUTS', 'A Taut Drama of a Mad Scientist And a Man who must Escape a Pioneer in An Abandoned Mine Shaft', 2006, 'G')\n",
      "('CONTROL ANTHEM', 'A Fateful Documentary of a Robot And a Student who must Battle a Cat in A Monastery', 2006, 'G')\n",
      "('DADDY PITTSBURGH', 'A Epic Story of a A Shark And a Student who must Confront a Explorer in The Gulf of Mexico', 2006, 'G')\n",
      "('DAISY MENAGERIE', 'A Fast-Paced Saga of a Pastry Chef And a Monkey who must Sink a Composer in Ancient India', 2006, 'G')\n",
      "('DARN FORRESTER', 'A Fateful Story of a A Shark And a Explorer who must Succumb a Technical Writer in A Jet Boat', 2006, 'G')\n",
      "('DAY UNFAITHFUL', 'A Stunning Documentary of a Composer And a Mad Scientist who must Find a Technical Writer in A U-Boat', 2006, 'G')\n",
      "('DAZED PUNK', 'A Action-Packed Story of a Pioneer And a Technical Writer who must Discover a Forensic Psychologist in An Abandoned Amusement Park', 2006, 'G')\n",
      "('DESPERATE TRAINSPOTTING', 'A Epic Yarn of a Forensic Psychologist And a Teacher who must Face a Lumberjack in California', 2006, 'G')\n",
      "('DESTINY SATURDAY', 'A Touching Drama of a Crocodile And a Crocodile who must Conquer a Explorer in Soviet Georgia', 2006, 'G')\n",
      "('DOGMA FAMILY', 'A Brilliant Character Study of a Database Administrator And a Monkey who must Succumb a Astronaut in New Orleans', 2006, 'G')\n",
      "('DUDE BLINDNESS', 'A Stunning Reflection of a Husband And a Lumberjack who must Face a Frisbee in An Abandoned Fun House', 2006, 'G')\n",
      "('EASY GLADIATOR', 'A Fateful Story of a Monkey And a Girl who must Overcome a Pastry Chef in Ancient India', 2006, 'G')\n",
      "('EVE RESURRECTION', 'A Awe-Inspiring Yarn of a Pastry Chef And a Database Administrator who must Challenge a Teacher in A Baloon', 2006, 'G')\n",
      "('FIDELITY DEVIL', 'A Awe-Inspiring Drama of a Technical Writer And a Composer who must Reach a Pastry Chef in A U-Boat', 2006, 'G')\n",
      "('GARDEN ISLAND', 'A Unbelieveable Character Study of a Womanizer And a Madman who must Reach a Man in The Outback', 2006, 'G')\n",
      "('GHOST GROUNDHOG', 'A Brilliant Panorama of a Madman And a Composer who must Succumb a Car in Ancient India', 2006, 'G')\n",
      "('GOSFORD DONNIE', 'A Epic Panorama of a Mad Scientist And a Monkey who must Redeem a Secret Agent in Berlin', 2006, 'G')\n",
      "('HANGING DEEP', 'A Action-Packed Yarn of a Boat And a Crocodile who must Build a Monkey in Berlin', 2006, 'G')\n",
      "('HEARTBREAKERS BRIGHT', 'A Awe-Inspiring Documentary of a A Shark And a Dentist who must Outrace a Pastry Chef in The Canadian Rockies', 2006, 'G')\n",
      "('HEAVYWEIGHTS BEAST', 'A Unbelieveable Story of a Composer And a Dog who must Overcome a Womanizer in An Abandoned Amusement Park', 2006, 'G')\n",
      "('ITALIAN AFRICAN', 'A Astounding Character Study of a Monkey And a Moose who must Outgun a Cat in A U-Boat', 2006, 'G')\n",
      "('LAWLESS VISION', 'A Insightful Yarn of a Boy And a Sumo Wrestler who must Outgun a Car in The Outback', 2006, 'G')\n",
      "('MIDSUMMER GROUNDHOG', 'A Fateful Panorama of a Moose And a Dog who must Chase a Crocodile in Ancient Japan', 2006, 'G')\n",
      "('MOONWALKER FOOL', 'A Epic Drama of a Feminist And a Pioneer who must Sink a Composer in New Orleans', 2006, 'G')\n",
      "('PANIC CLUB', 'A Fanciful Display of a Teacher And a Crocodile who must Succumb a Girl in A Baloon', 2006, 'G')\n",
      "('PANKY SUBMARINE', 'A Touching Documentary of a Dentist And a Sumo Wrestler who must Overcome a Boy in The Gulf of Mexico', 2006, 'G')\n",
      "('SATISFACTION CONFIDENTIAL', 'A Lacklusture Yarn of a Dentist And a Butler who must Meet a Secret Agent in Ancient China', 2006, 'G')\n",
      "('SATURDAY LAMBS', 'A Thoughtful Reflection of a Mad Scientist And a Moose who must Kill a Husband in A Baloon', 2006, 'G')\n",
      "('SECRETS PARADISE', 'A Fateful Saga of a Cat And a Frisbee who must Kill a Girl in A Manhattan Penthouse', 2006, 'G')\n",
      "('SLEEPLESS MONSOON', 'A Amazing Saga of a Moose And a Pastry Chef who must Escape a Butler in Australia', 2006, 'G')\n",
      "('STRANGER STRANGERS', 'A Awe-Inspiring Yarn of a Womanizer And a Explorer who must Fight a Woman in The First Manned Space Station', 2006, 'G')\n",
      "('SUICIDES SILENCE', 'A Emotional Character Study of a Car And a Girl who must Face a Composer in A U-Boat', 2006, 'G')\n",
      "('TEEN APOLLO', 'A Awe-Inspiring Drama of a Dog And a Man who must Escape a Robot in A Shark Tank', 2006, 'G')\n",
      "('TORQUE BOUND', 'A Emotional Display of a Crocodile And a Husband who must Reach a Man in Ancient Japan', 2006, 'G')\n",
      "('TRAFFIC HOBBIT', 'A Amazing Epistle of a Squirrel And a Lumberjack who must Succumb a Database Administrator in A U-Boat', 2006, 'G')\n",
      "('TRAP GUYS', 'A Unbelieveable Story of a Boy And a Mad Cow who must Challenge a Database Administrator in The Sahara Desert', 2006, 'G')\n",
      "('TRUMAN CRAZY', 'A Thrilling Epistle of a Moose And a Boy who must Meet a Database Administrator in A Monastery', 2006, 'G')\n",
      "('TYCOON GATHERING', 'A Emotional Display of a Husband And a A Shark who must Succumb a Madman in A Manhattan Penthouse', 2006, 'G')\n",
      "('WAKE JAWS', 'A Beautiful Saga of a Feminist And a Composer who must Challenge a Moose in Berlin', 2006, 'G')\n",
      "('WAR NOTTING', 'A Boring Drama of a Teacher And a Sumo Wrestler who must Challenge a Secret Agent in The Canadian Rockies', 2006, 'G')\n",
      "('WATERFRONT DELIVERANCE', 'A Unbelieveable Documentary of a Dentist And a Technical Writer who must Build a Womanizer in Nigeria', 2006, 'G')\n",
      "('WEREWOLF LOLA', 'A Fanciful Story of a Man And a Sumo Wrestler who must Outrace a Student in A Monastery', 2006, 'G')\n",
      "('WEST LION', 'A Intrepid Drama of a Butler And a Lumberjack who must Challenge a Database Administrator in A Manhattan Penthouse', 2006, 'G')\n"
     ]
    }
   ],
   "source": [
    "# Fetching Values\n",
    "# 1. Fetch all movies from the year 2005 \n",
    "movie_query = ('''SELECT title, description, release_year, rating \n",
    "                FROM film \n",
    "                WHERE release_year = %s\n",
    "                AND rating = %s \n",
    "                AND rental_rate>%s''')\n",
    "movie_data = (2006, 'G',2.99)\n",
    "sakila_cursor.execute(movie_query, movie_data)\n",
    "for row in sakila_cursor.fetchall():\n",
    "    print(row)\n",
    "# 2. Update the above query to get $.99 movies that are R rated. -Student to do "
   ]
  },
  {
   "cell_type": "code",
   "execution_count": 4,
   "id": "f18283b0-395f-4514-b9e2-3e60d79c595b",
   "metadata": {},
   "outputs": [],
   "source": [
    "# Stored Procedures \n",
    "# 1. Turning what we just did into a stored procedure that gives us the count\n",
    "sakila_cursor = sakila_connection.cursor()\n",
    "drop_procedure = (\"DROP PROCEDURE IF EXISTS count_film\")\n",
    "sakila_cursor.execute(drop_procedure)\n",
    "\n",
    "movie_procedure = ('''CREATE PROCEDURE count_film (IN p_rating VARCHAR(20), IN p_release_year INT, OUT total_count INT)\n",
    "\n",
    "                    SELECT COUNT(*) INTO total_count \n",
    "                    FROM film\n",
    "                    WHERE release_year = p_release_year\n",
    "                    AND rating = p_rating;\n",
    "                    ''')\n",
    "sakila_cursor.execute(movie_procedure)\n",
    "\n",
    "sakila_connection.commit()"
   ]
  },
  {
   "cell_type": "code",
   "execution_count": 9,
   "id": "6f7a7821-94d9-4b3c-a09a-2e5555e8447b",
   "metadata": {},
   "outputs": [
    {
     "name": "stdout",
     "output_type": "stream",
     "text": [
      "178\n"
     ]
    },
    {
     "data": {
      "text/plain": [
       "True"
      ]
     },
     "execution_count": 9,
     "metadata": {},
     "output_type": "execute_result"
    }
   ],
   "source": [
    "# Calling the procedure with Input\n",
    "sakila_cursor = sakila_connection.cursor()\n",
    "movie_data_procedure = ('G',2006,0)\n",
    "result = sakila_cursor.callproc('count_film', movie_data_procedure)\n",
    "print(result[2])\n",
    "\n",
    "sakila_cursor.close()\n",
    "\n",
    "# sakila_connection.close()"
   ]
  },
  {
   "cell_type": "code",
   "execution_count": null,
   "id": "86d2b28b-b68a-413a-a42b-19dd27876152",
   "metadata": {},
   "outputs": [],
   "source": [
    "# 2. Create stored procedure to count the number of distinct customers who spent x amount of money where x is an input variable. - Student to do "
   ]
  }
 ],
 "metadata": {
  "kernelspec": {
   "display_name": "Python 3 (ipykernel)",
   "language": "python",
   "name": "python3"
  },
  "language_info": {
   "codemirror_mode": {
    "name": "ipython",
    "version": 3
   },
   "file_extension": ".py",
   "mimetype": "text/x-python",
   "name": "python",
   "nbconvert_exporter": "python",
   "pygments_lexer": "ipython3",
   "version": "3.9.6"
  }
 },
 "nbformat": 4,
 "nbformat_minor": 5
}
